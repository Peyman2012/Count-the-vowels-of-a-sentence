{
 "cells": [
  {
   "cell_type": "code",
   "execution_count": 63,
   "metadata": {},
   "outputs": [
    {
     "name": "stdout",
     "output_type": "stream",
     "text": [
      "Enter  a string:python lanqeque\n"
     ]
    }
   ],
   "source": [
    "a=input(\"Enter  a string:\")"
   ]
  },
  {
   "cell_type": "code",
   "execution_count": 71,
   "metadata": {},
   "outputs": [
    {
     "name": "stdout",
     "output_type": "stream",
     "text": [
      "Count is  5\n"
     ]
    }
   ],
   "source": [
    "count=0\n",
    "for i in a:\n",
    "    if i=='e' or i=='i' or i=='u' or i=='o' or i=='a' or i=='A' or i=='E' or i=='O' or i==\"U\" :\n",
    "        count=count+1\n",
    "print(\"Count is \" , count)"
   ]
  },
  {
   "cell_type": "code",
   "execution_count": 68,
   "metadata": {},
   "outputs": [],
   "source": [
    "sound=\"eiuoEAaIOU\""
   ]
  },
  {
   "cell_type": "code",
   "execution_count": 70,
   "metadata": {},
   "outputs": [
    {
     "name": "stdout",
     "output_type": "stream",
     "text": [
      "Count is  5\n"
     ]
    }
   ],
   "source": [
    "count=0\n",
    "for i in a:\n",
    "    if i in sound:\n",
    "        count+=1\n",
    "print(\"Count is \",count)"
   ]
  },
  {
   "cell_type": "code",
   "execution_count": null,
   "metadata": {},
   "outputs": [],
   "source": []
  }
 ],
 "metadata": {
  "kernelspec": {
   "display_name": "Python 3",
   "language": "python",
   "name": "python3"
  },
  "language_info": {
   "codemirror_mode": {
    "name": "ipython",
    "version": 3
   },
   "file_extension": ".py",
   "mimetype": "text/x-python",
   "name": "python",
   "nbconvert_exporter": "python",
   "pygments_lexer": "ipython3",
   "version": "3.6.13"
  }
 },
 "nbformat": 4,
 "nbformat_minor": 2
}
